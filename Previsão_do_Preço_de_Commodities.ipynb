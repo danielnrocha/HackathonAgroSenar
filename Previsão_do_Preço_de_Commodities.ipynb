{
  "nbformat": 4,
  "nbformat_minor": 0,
  "metadata": {
    "colab": {
      "name": "Previsão do Preço de Commodities.ipynb",
      "provenance": [],
      "collapsed_sections": [],
      "mount_file_id": "1PMeEaIF2eNbVjyaikhpO5lRkael5ClkW",
      "authorship_tag": "ABX9TyPnlCM5C/V6fgwZAMfrw2eD",
      "include_colab_link": true
    },
    "kernelspec": {
      "name": "python3",
      "display_name": "Python 3"
    }
  },
  "cells": [
    {
      "cell_type": "markdown",
      "metadata": {
        "id": "view-in-github",
        "colab_type": "text"
      },
      "source": [
        "<a href=\"https://colab.research.google.com/github/danielnrocha/HackathonAgroSenar/blob/main/Previs%C3%A3o_do_Pre%C3%A7o_de_Commodities.ipynb\" target=\"_parent\"><img src=\"https://colab.research.google.com/assets/colab-badge.svg\" alt=\"Open In Colab\"/></a>"
      ]
    },
    {
      "cell_type": "markdown",
      "metadata": {
        "id": "53vQ0_e6KqdQ"
      },
      "source": [
        "# Predição do Preço de Commodities\n",
        "## Union Squad\n",
        "Os dados foram coletados do seguinte site: https://www.cepea.esalq.usp.br/\n",
        "\n",
        "Dados do leite em dólar foram consultados em: https://br.investing.com/commodities/class-iii-milk-futures"
      ]
    },
    {
      "cell_type": "code",
      "metadata": {
        "id": "AM7fGBiizSob"
      },
      "source": [
        "%%capture \n",
        "%pip install quandl \n",
        "%pip install jupyterthemes"
      ],
      "execution_count": 2,
      "outputs": []
    },
    {
      "cell_type": "code",
      "metadata": {
        "colab": {
          "base_uri": "https://localhost:8080/"
        },
        "id": "RSKDohgf0gts",
        "outputId": "d91cccc9-bf84-4654-f1ec-f8af060f3e72"
      },
      "source": [
        "# %%capture \n",
        "%pip install plotly==4.14.0"
      ],
      "execution_count": 1,
      "outputs": [
        {
          "output_type": "stream",
          "text": [
            "Requirement already satisfied: plotly==4.14.0 in /usr/local/lib/python3.6/dist-packages (4.14.0)\n",
            "Requirement already satisfied: retrying>=1.3.3 in /usr/local/lib/python3.6/dist-packages (from plotly==4.14.0) (1.3.3)\n",
            "Requirement already satisfied: six in /usr/local/lib/python3.6/dist-packages (from plotly==4.14.0) (1.15.0)\n"
          ],
          "name": "stdout"
        }
      ]
    },
    {
      "cell_type": "code",
      "metadata": {
        "id": "5dVejhXWwqJh"
      },
      "source": [
        "import quandl \n",
        "import numpy as np\n",
        "import pandas as pd\n",
        "import seaborn as sns\n",
        "import matplotlib.pyplot as plt\n",
        "from jupyterthemes import jtplot\n",
        "jtplot.style(theme='monokai', context='notebook', ticks=True, grid=False)"
      ],
      "execution_count": 3,
      "outputs": []
    },
    {
      "cell_type": "code",
      "metadata": {
        "id": "akB5C5TUxteh"
      },
      "source": [
        "import os \n",
        "os.chdir('/content/drive/My Drive/Colab Notebooks')"
      ],
      "execution_count": 4,
      "outputs": []
    },
    {
      "cell_type": "code",
      "metadata": {
        "id": "zIYHJca1IuWi"
      },
      "source": [
        "pd.set_option(\"display.max_columns\", None)\n",
        "pd.set_option(\"display.max_rows\", 10)\n",
        "\n",
        "import matplotlib.style\n",
        "import matplotlib as mpl\n",
        "for m,n in zip(['grid.color','axes.titlecolor','axes.labelcolor','xtick.color','ytick.color','axes.titlesize',\n",
        "    'figure.figsize','legend.framealpha'],['white','white','white','white','white','20.0','13.0, 8.0','0.8']):\n",
        "    mpl.rcParams[m] = n"
      ],
      "execution_count": 5,
      "outputs": []
    },
    {
      "cell_type": "code",
      "metadata": {
        "id": "enIy7018w0Cx"
      },
      "source": [
        "milho = pd.read_excel('milho-esalq.xlsx')\n",
        "milho[\"À vista R$\"] = [float('.'.join(i.split(','))) for i in milho[\"À vista R$\"]]\n",
        "milho[\"À vista US$\"] = [float('.'.join(i.split(','))) for i in milho[\"À vista US$\"]]\n",
        "milho.drop(index=[0,len(milho)-1,len(milho)-2],inplace=True)\n",
        "milho.reset_index(inplace=True,drop=True)\n",
        "milho.Data = pd.to_datetime(milho.Data)"
      ],
      "execution_count": 6,
      "outputs": []
    },
    {
      "cell_type": "code",
      "metadata": {
        "id": "1JBlk5GWzeEy"
      },
      "source": [
        "soja = pd.read_excel('soja-esalq.xlsx')\n",
        "soja[\"À vista R$\"] = [float('.'.join(i.split(','))) for i in soja[\"À vista R$\"]]\n",
        "soja[\"À vista US$\"] = [float('.'.join(i.split(','))) for i in soja[\"À vista US$\"]]\n",
        "soja.drop(index=[len(soja)-1,len(soja)-2],inplace=True)\n",
        "soja.Data = pd.to_datetime(soja.Data)"
      ],
      "execution_count": 7,
      "outputs": []
    },
    {
      "cell_type": "code",
      "metadata": {
        "id": "VV-KYV2xOMHR"
      },
      "source": [
        "arroz = pd.read_excel('arroz-esalq.xlsx')\n",
        "arroz[\"À vista R$\"] = [1.2*float('.'.join(i.split(','))) for i in arroz[\"À vista R$\"]]\n",
        "arroz[\"À vista US$\"] = [1.2*float('.'.join(i.split(','))) for i in arroz[\"À vista US$\"]]\n",
        "arroz.drop(index=[len(arroz)-1,len(arroz)-2],inplace=True)\n",
        "arroz.Data = pd.to_datetime(arroz.Data)"
      ],
      "execution_count": 8,
      "outputs": []
    },
    {
      "cell_type": "code",
      "metadata": {
        "id": "rtPhTH-WOMSz"
      },
      "source": [
        "pecuaria = pd.read_excel('pecuaria-esalq.xlsx')\n",
        "pecuaria.Data = pd.to_datetime(pecuaria.Data).values.astype('datetime64[M]')\n",
        "pecuaria = pecuaria.groupby('Data',as_index=False).mean().copy()\n",
        "pecuaria['À vista R$'] = pecuaria['À vista R$']/2.5\n",
        "pecuaria['À vista US$'] = pecuaria['À vista US$']/2.5"
      ],
      "execution_count": 9,
      "outputs": []
    },
    {
      "cell_type": "code",
      "metadata": {
        "id": "-AiTYQBeOMdg"
      },
      "source": [
        "trigo = pd.read_excel('trigo-esalq.xlsx')\n",
        "trigo[\"À vista R$\"] = [0.06*float('.'.join(''.join(i.split('.')).split(','))) for i in trigo[\"À vista R$\"]]\n",
        "trigo[\"À vista US$\"] = [0.06*float('.'.join(''.join(i.split('.')).split(','))) for i in trigo[\"À vista US$\"]]\n",
        "trigo.drop(index=[len(trigo)-1,len(trigo)-2],inplace=True)\n",
        "trigo.Data = pd.to_datetime(trigo.Data)"
      ],
      "execution_count": 10,
      "outputs": []
    },
    {
      "cell_type": "code",
      "metadata": {
        "id": "K-5upD-jOL-z"
      },
      "source": [
        "leite = pd.read_excel('leite-esalq-old.xlsx')\n",
        "leite[\"Preço Real\"] = [60*float('.'.join(i.split(','))) for i in leite['Preço Real']]\n",
        "leite.Data = pd.to_datetime(leite.Data)\n",
        "leite.columns = [\"Data\",\"À vista R$\",\"À vista US$\"]"
      ],
      "execution_count": 11,
      "outputs": []
    },
    {
      "cell_type": "code",
      "metadata": {
        "id": "lnvFCstvzpl7"
      },
      "source": [
        "ipca = quandl.get([\"BCB/433\"], start_date=\"2004-07-01\", collapse='monthly', api_key='dQfS4ReMWX3wuUxGRnVR')\n",
        "ipca.index = milho.Data\n",
        "ipca.columns = [\"IPCA\"]\n",
        "ipca.reset_index(inplace=True)"
      ],
      "execution_count": 12,
      "outputs": []
    },
    {
      "cell_type": "code",
      "metadata": {
        "id": "D7KciOAvaxBM"
      },
      "source": [
        "usa_inflation = quandl.get([\"RATEINF/INFLATION_USA\"], start_date=\"2004-07-01\", collapse='monthly', api_key='dQfS4ReMWX3wuUxGRnVR')\n",
        "usa_inflation.index = milho.Data\n",
        "usa_inflation.columns = [\"USA_INFLATION\"]\n",
        "usa_inflation.reset_index(inplace=True)"
      ],
      "execution_count": 13,
      "outputs": []
    },
    {
      "cell_type": "code",
      "metadata": {
        "id": "Lj7pHxRteG1p"
      },
      "source": [
        "for i in ['milho','soja','arroz','pecuaria','trigo','leite']:\n",
        "    globals()[i] = globals()[i].merge(ipca[ipca.Data>=globals()[i]['Data'][0]]).copy()\n",
        "    globals()[i][\"Deflacionado_BR\"] = globals()[i]['À vista R$']/(1 + globals()[i][\"IPCA\"]/100)"
      ],
      "execution_count": 14,
      "outputs": []
    },
    {
      "cell_type": "code",
      "metadata": {
        "id": "vkl-YrK3dbfe"
      },
      "source": [
        "for i in ['milho','soja','arroz','pecuaria','trigo','leite']:\n",
        "    globals()[i] = globals()[i].merge(usa_inflation[usa_inflation.Data>=globals()[i]['Data'][0]]).copy()\n",
        "    globals()[i][\"Deflacionado_US\"] = globals()[i]['À vista US$']/(1 + globals()[i][\"USA_INFLATION\"]/100)"
      ],
      "execution_count": 15,
      "outputs": []
    },
    {
      "cell_type": "code",
      "metadata": {
        "colab": {
          "base_uri": "https://localhost:8080/",
          "height": 471
        },
        "id": "IYvwiScXXwTm",
        "outputId": "98eb6af2-3b5c-431c-a114-387af9707c4b"
      },
      "source": [
        "import plotly.graph_objects as go\n",
        "\n",
        "# Initialize figure\n",
        "fig = go.Figure()\n",
        "\n",
        "# Add Traces\n",
        "fig.add_trace(go.Scatter(x=milho.Data, y=milho.Deflacionado_US,\n",
        "                    line=dict(color='red', width=3), name='Milho (60 kg)'))\n",
        "fig.add_trace(go.Scatter(x=soja.Data, y=soja.Deflacionado_US,\n",
        "                    line=dict(color='royalblue', width=3), name='Soja (60 kg)'))\n",
        "fig.add_trace(go.Scatter(x=arroz.Data, y=arroz.Deflacionado_US,\n",
        "                    line=dict(color='green', width=3), name='Arroz (60 kg)'))\n",
        "fig.add_trace(go.Scatter(x=pecuaria.Data, y=pecuaria.Deflacionado_US,\n",
        "                    line=dict(color='yellow', width=3), name='Pecuária (6 kg)'))\n",
        "fig.add_trace(go.Scatter(x=trigo.Data, y=trigo.Deflacionado_US,\n",
        "                    line=dict(color='darkorange', width=3), name='Trigo (60 kg)'))\n",
        "fig.add_trace(go.Scatter(x=leite.Data, y=leite.Deflacionado_US,\n",
        "                    line=dict(color='purple', width=3), name='Leite (90 ton)'))\n",
        "\n",
        "# Edit the layout\n",
        "fig.update_layout(title='Cotação das Commodities (Deflacionado Dólar)',\n",
        "                   xaxis_title='Data', yaxis_title='Preço (US$)',\n",
        "                   )#template='plotly_dark')\n",
        "\n",
        "# Add range slider\n",
        "fig.update_layout(\n",
        "    xaxis=dict(\n",
        "        rangeselector=dict(\n",
        "            buttons=list([\n",
        "                dict(count=1,\n",
        "                     label=\"YTD\",\n",
        "                     step=\"year\",\n",
        "                     stepmode=\"todate\"),\n",
        "                dict(count=1,\n",
        "                     label=\"1y\",\n",
        "                     step=\"year\",\n",
        "                     stepmode=\"backward\"),\n",
        "                dict(count=4,\n",
        "                     label=\"4y\",\n",
        "                     step=\"year\",\n",
        "                     stepmode=\"backward\"),\n",
        "                dict(count=8,\n",
        "                     label=\"8y\",\n",
        "                     step=\"year\",\n",
        "                     stepmode=\"backward\"),\n",
        "                dict(count=12,\n",
        "                     label=\"12y\",\n",
        "                     step=\"year\",\n",
        "                     stepmode=\"backward\"),\n",
        "                dict(step=\"all\"),\n",
        "            ])\n",
        "        ),\n",
        "        \n",
        "        type=\"date\"\n",
        "    )\n",
        ")\n",
        "\n",
        "fig.update_xaxes(rangeselector_font_color='black')\n",
        "\n",
        "# fig.show()\n",
        "fig.show('svg');"
      ],
      "execution_count": 16,
      "outputs": [
        {
          "output_type": "display_data",
          "data": {
            "image/svg+xml": "<svg class=\"main-svg\" xmlns=\"http://www.w3.org/2000/svg\" xmlns:xlink=\"http://www.w3.org/1999/xlink\" width=\"700\" height=\"450\" viewBox=\"0 0 700 450\"><rect x=\"0\" y=\"0\" width=\"700\" height=\"450\" style=\"fill: rgb(255, 255, 255); fill-opacity: 1;\"/><defs id=\"defs-7f791a\"><g class=\"clips\"><clipPath id=\"clip7f791axyplot\" class=\"plotclip\"><rect width=\"472\" height=\"270\"/></clipPath><clipPath class=\"axesclip\" id=\"clip7f791ax\"><rect x=\"80\" y=\"0\" width=\"472\" height=\"450\"/></clipPath><clipPath class=\"axesclip\" id=\"clip7f791ay\"><rect x=\"0\" y=\"100\" width=\"700\" height=\"270\"/></clipPath><clipPath class=\"axesclip\" id=\"clip7f791axy\"><rect x=\"80\" y=\"100\" width=\"472\" height=\"270\"/></clipPath></g><g class=\"gradients\"/></defs><g class=\"bglayer\"><rect class=\"bg\" x=\"80\" y=\"100\" width=\"472\" height=\"270\" style=\"fill: rgb(229, 236, 246); fill-opacity: 1; stroke-width: 0;\"/></g><g class=\"layer-below\"><g class=\"imagelayer\"/><g class=\"shapelayer\"/></g><g class=\"cartesianlayer\"><g class=\"subplot xy\"><g class=\"layer-subplot\"><g class=\"shapelayer\"/><g class=\"imagelayer\"/></g><g class=\"gridlayer\"><g class=\"x\"><path class=\"xgrid crisp\" transform=\"translate(94.63,0)\" d=\"M0,100v270\" style=\"stroke: rgb(255, 255, 255); stroke-opacity: 1; stroke-width: 1px;\"/><path class=\"xgrid crisp\" transform=\"translate(239.82,0)\" d=\"M0,100v270\" style=\"stroke: rgb(255, 255, 255); stroke-opacity: 1; stroke-width: 1px;\"/><path class=\"xgrid crisp\" transform=\"translate(385.02,0)\" d=\"M0,100v270\" style=\"stroke: rgb(255, 255, 255); stroke-opacity: 1; stroke-width: 1px;\"/><path class=\"xgrid crisp\" transform=\"translate(530.21,0)\" d=\"M0,100v270\" style=\"stroke: rgb(255, 255, 255); stroke-opacity: 1; stroke-width: 1px;\"/></g><g class=\"y\"><path class=\"ygrid crisp\" transform=\"translate(0,328.28)\" d=\"M80,0h472\" style=\"stroke: rgb(255, 255, 255); stroke-opacity: 1; stroke-width: 1px;\"/><path class=\"ygrid crisp\" transform=\"translate(0,261.15)\" d=\"M80,0h472\" style=\"stroke: rgb(255, 255, 255); stroke-opacity: 1; stroke-width: 1px;\"/><path class=\"ygrid crisp\" transform=\"translate(0,194.01999999999998)\" d=\"M80,0h472\" style=\"stroke: rgb(255, 255, 255); stroke-opacity: 1; stroke-width: 1px;\"/><path class=\"ygrid crisp\" transform=\"translate(0,126.89)\" d=\"M80,0h472\" style=\"stroke: rgb(255, 255, 255); stroke-opacity: 1; stroke-width: 1px;\"/></g></g><g class=\"zerolinelayer\"/><path class=\"xlines-below\"/><path class=\"ylines-below\"/><g class=\"overlines-below\"/><g class=\"xaxislayer-below\"/><g class=\"yaxislayer-below\"/><g class=\"overaxes-below\"/><g class=\"plot\" transform=\"translate(80,100)\" clip-path=\"url('#clip7f791axyplot')\"><g class=\"scatterlayer mlayer\"><g class=\"trace scatter trace7765df\" style=\"stroke-miterlimit: 2; opacity: 1;\"><g class=\"fills\"/><g class=\"errorbars\"/><g class=\"lines\"><path class=\"js-line\" d=\"M0,256.5L2.46,255.39L4.93,252.27L7.32,253.78L9.78,254.24L12.17,254.45L14.63,252.25L17.1,251.62L19.32,247.19L21.79,246.77L24.17,244.67L26.64,242.38L29.02,242.64L31.49,244.24L33.95,244.11L36.34,244.72L38.8,246.94L41.19,247.83L43.65,245.57L46.12,245.91L48.35,251.25L50.81,251.39L53.2,250.24L60.51,244.85L62.98,241.02L65.36,230.34L67.83,225.5L70.21,219.4L72.68,218.47L77.37,232.25L79.83,233.57L82.22,232.85L84.68,229.19L87.07,229.3L89.53,221.28L92,202.58L94.38,196.79L96.85,180.21L99.23,173.38L104.16,191.52L106.47,192.57L108.94,193.49L111.32,188.89L113.79,189.18L116.17,184.48L121.1,210.65L123.49,228.97L125.95,235.37L128.34,237.4L130.8,226.69L133.27,230.92L135.49,235.3L137.96,230.08L140.34,221.97L142.81,218.12L145.19,222.39L147.66,223.73L150.12,223.87L152.51,215.65L154.97,217.56L157.36,220.71L159.82,223.2L162.29,229.89L164.52,227.57L166.98,227.58L169.37,227.77L171.83,224.07L174.22,224.86L176.68,217.89L179.15,201.36L181.53,196.35L184,185.9L186.38,184.69L188.85,175.79L191.31,170.56L196,172.56L198.39,180.1L200.85,169.91L203.24,169.8L205.7,172.95L208.17,177.59L213.02,187.18L215.41,195.53L217.87,181.99L220.34,187.48L222.64,190.06L225.11,204L227.49,212.57L229.96,217.69L234.81,187.22L237.27,190.76L239.66,193.89L242.12,186.83L244.51,184.5L246.97,188.76L249.44,187.52L251.66,193L254.13,207.8L256.51,210.9L258.98,215.12L261.37,222.33L263.83,227.63L266.3,222.04L268.68,222.21L271.15,221.61L273.53,220.88L276,221L280.69,202.04L283.15,203.49L290.39,225.45L292.85,228.74L295.32,233.07L297.7,231.76L300.17,223.59L302.55,225.65L305.02,225.53L307.48,228.67L309.71,232.46L312.18,234.34L314.56,239.81L317.03,241.44L319.41,241.33L321.88,243.15L324.34,242.02L326.73,238.72L329.19,236.03L331.58,234.57L334.04,227.4L336.51,223.51L338.81,209.28L341.28,204L343.66,198.72L346.13,200.04L348.51,205.14L350.98,201.29L353.44,210.2L355.83,208.03L358.29,218.71L360.68,220.24L363.14,221.73L365.61,219.16L367.84,224.6L370.3,236.16L372.69,238.35L375.15,241.77L380,239.7L382.47,234.48L384.85,231.07L387.32,231.44L389.7,230.79L392.17,228.39L394.63,225.01L396.86,212.65L399.32,218.63L401.71,218.81L406.56,231.97L409.02,226.91L411.49,231.02L413.87,232.03L418.73,231.25L421.19,226.6L423.65,222.74L425.88,227.14L428.35,233.81L430.73,237.9L433.2,230.36L435.58,230.66L438.05,235.7L440.51,235.15L442.9,228.32L445.36,224.96L447.75,218.49L450.21,214.78L452.68,217.42L454.98,217.86L457.45,228.84L459.83,235.74L464.68,232.79L467.15,226.76L469.61,221.77L472,209.76\" style=\"vector-effect: non-scaling-stroke; fill: none; stroke: rgb(255, 0, 0); stroke-opacity: 1; stroke-width: 3px; opacity: 1;\"/></g><g class=\"points\"/><g class=\"text\"/></g><g class=\"trace scatter trace4537dd\" style=\"stroke-miterlimit: 2; opacity: 1;\"><g class=\"fills\"/><g class=\"errorbars\"/><g class=\"lines\"><path class=\"js-line\" d=\"M48.35,211.76L50.81,213.08L53.2,210.67L55.66,211.11L58.05,208.33L60.51,208.77L62.98,207.14L65.36,196.28L67.83,190.61L70.21,193.94L72.68,191.83L75.14,186.93L77.37,189.01L79.83,192.53L82.22,189.31L87.07,178.21L89.53,171.05L92,153.19L94.38,143.43L99.23,136.36L101.7,121.47L104.16,108.53L106.47,113.61L108.94,116.5L111.32,114.21L113.79,88.56L116.17,83.85L118.64,110.4L121.1,123.96L123.49,156.62L125.95,157.06L128.34,164.83L130.8,147.23L135.49,156.45L137.96,141.55L140.34,121.26L142.81,113.37L145.19,118.09L147.66,110.61L150.12,122.47L152.51,125.19L154.97,135.16L157.36,140.92L159.82,147.64L162.29,158.84L164.52,158.08L166.98,155.55L169.37,156.24L171.83,152.52L176.68,130.09L179.15,122.65L181.53,115.33L184,104.99L186.38,101.88L188.85,95.27L191.31,92.92L193.54,100.19L198.39,103.16L200.85,99.9L203.24,94.4L205.7,95.19L208.17,103.59L210.56,117.67L215.41,126.28L217.87,114.68L220.34,107.99L222.64,95.23L225.11,82.08L227.49,83.27L229.96,76.32L232.34,36.57L234.81,16.83L237.27,13.5L239.66,50.24L242.12,54.1L244.51,55.17L246.97,61.1L249.44,81.93L251.66,89.34L254.13,98.26L256.51,94.41L258.98,86.87L261.37,92.76L263.83,98.48L266.3,80.32L268.68,71.34L271.15,75.19L273.53,77.82L276,94.9L278.46,100.97L280.69,90.01L283.15,85.69L285.54,86.12L288,86.99L290.39,96.31L292.85,100.09L295.32,116.85L297.7,130.46L300.17,136.6L302.55,141.1L305.02,139.53L307.48,143.52L309.71,150.23L312.18,141.64L314.56,149.28L317.03,149.05L319.41,143.89L321.88,147.88L324.34,155.53L326.73,153.74L329.19,154.01L331.58,156.26L334.04,160.19L336.51,165.23L338.81,161.15L341.28,149.5L343.66,133.07L346.13,110.25L348.51,117.72L353.44,133.78L355.83,136.23L358.29,140.68L360.68,141.58L363.14,139.54L365.61,139.83L370.3,157.73L372.69,153.86L375.15,157.22L377.54,146.39L380,149.41L382.47,147.99L384.85,148.24L387.32,146.51L392.17,148.22L394.63,144.09L396.86,136.5L399.32,130.96L404.17,149.04L406.56,144.91L409.02,145.85L411.49,142.74L413.87,137.8L416.34,149.36L418.73,157.8L421.19,159.37L423.65,157.27L425.88,161.17L428.35,166.02L430.73,166.08L433.2,155.34L435.58,157.87L438.05,155.94L440.51,156.94L442.9,152.86L445.36,153.19L447.75,154.63L450.21,157.4L454.98,167.09L457.45,166.94L459.83,164.12L462.3,154.61L464.68,149.23L467.15,139.36L472,107.25\" style=\"vector-effect: non-scaling-stroke; fill: none; stroke: rgb(65, 105, 225); stroke-opacity: 1; stroke-width: 3px; opacity: 1;\"/></g><g class=\"points\"/><g class=\"text\"/></g><g class=\"trace scatter trace2493f0\" style=\"stroke-miterlimit: 2; opacity: 1;\"><g class=\"fills\"/><g class=\"errorbars\"/><g class=\"lines\"><path class=\"js-line\" d=\"M26.64,226.98L29.02,228.89L31.49,236.26L33.95,238.62L36.34,236.74L38.8,226.66L41.19,223.83L43.65,224.68L46.12,228.62L48.35,232.21L50.81,234.34L53.2,237.1L55.66,227.46L58.05,223.01L60.51,222.86L62.98,221.46L65.36,209.13L67.83,203.78L70.21,210.65L75.14,225.64L77.37,218.37L79.83,215.23L82.22,214.06L84.68,211L87.07,205.54L92,196.24L94.38,195.04L96.85,199.03L99.23,196.5L101.7,185.56L104.16,184.75L106.47,192.53L108.94,163.11L111.32,133.56L113.79,138.17L116.17,136.28L118.64,137.62L121.1,146.79L123.49,167.02L128.34,188.69L130.8,183.07L133.27,186.84L135.49,195.46L137.96,193.89L140.34,191.45L142.81,188.6L145.19,176.6L147.66,175.7L150.12,170.23L152.51,166.69L154.97,173.51L157.36,168.92L159.82,154.43L164.52,174.79L166.98,169.73L169.37,172.94L171.83,177.67L176.68,171.41L179.15,172.52L184,176.34L186.38,179.45L188.85,188.41L191.31,190.09L196,200.22L198.39,203.4L200.85,199.73L203.24,187.05L205.7,180.68L208.17,192.49L213.02,184.15L215.41,186.42L217.87,180.12L220.34,171.53L222.64,182.01L225.11,180.84L229.96,184.56L232.34,180.23L234.81,166.29L237.27,147.63L239.66,144.09L242.12,148.88L244.51,157.01L246.97,160.61L249.44,160.17L251.66,168.55L254.13,170.83L256.51,165.23L258.98,172.15L261.37,174.53L263.83,178.13L266.3,175.2L268.68,172.62L271.15,177.33L273.53,173.67L276,173.6L278.46,176.16L280.69,180.03L283.15,171.44L285.54,166.29L288,166.14L290.39,167.69L295.32,170.45L297.7,176.55L300.17,179.17L302.55,180.44L305.02,178.66L307.48,188.32L309.71,203.51L312.18,200.41L314.56,203.46L317.03,208.52L319.41,211.37L321.88,216.06L324.34,217.57L326.73,211.37L329.19,208.04L331.58,210.64L334.04,214.04L336.51,211.2L341.28,206.11L343.66,201.24L348.51,172.3L350.98,169.87L353.44,173.3L355.83,172.24L358.29,179.04L360.68,179.64L363.14,173.28L365.61,171.52L367.84,189.03L370.3,197.44L372.69,199.25L375.15,199.81L377.54,195.78L380,195.92L384.85,205.41L387.32,205.24L389.7,205.95L392.17,205.05L394.63,209.27L396.86,211.2L399.32,212.94L401.71,216.11L404.17,214.68L406.56,209.42L409.02,207.25L411.49,208.14L413.87,201.91L416.34,208.45L418.73,213.68L421.19,210.14L423.65,210.27L425.88,214.51L430.73,207.8L433.2,205.15L435.58,205.21L438.05,209.27L440.51,208.21L442.9,206.36L445.36,206.84L447.75,203.66L450.21,201.48L452.68,203.86L454.98,214.57L457.45,212.95L459.83,208.59L462.3,200L464.68,197.69L467.15,180.51L469.61,141.8L472,146.37\" style=\"vector-effect: non-scaling-stroke; fill: none; stroke: rgb(0, 128, 0); stroke-opacity: 1; stroke-width: 3px; opacity: 1;\"/></g><g class=\"points\"/><g class=\"text\"/></g><g class=\"trace scatter tracefd9a44\" style=\"stroke-miterlimit: 2; opacity: 1;\"><g class=\"fills\"/><g class=\"errorbars\"/><g class=\"lines\"><path class=\"js-line\" d=\"M0,242.98L2.46,241.23L4.93,241.17L7.32,241.23L9.78,239.2L12.17,239.14L14.63,237.66L17.1,236.99L19.32,239.22L21.79,238.47L24.17,236.91L26.64,236.5L29.02,237.09L31.49,239.09L33.95,238.19L36.34,233.91L38.8,232.61L41.19,238.13L43.65,237.06L46.12,233.84L48.35,234.56L50.81,232.49L53.2,237.19L55.66,236.35L58.05,234.52L62.98,225.99L65.36,224.42L67.83,229.81L70.21,232.09L72.68,224.13L75.14,223.16L77.37,220.54L79.83,219.71L82.22,217.88L84.68,213.96L87.07,208.72L89.53,212.12L92,213.04L94.38,205.8L96.85,198.07L99.23,202.33L101.7,180.76L104.16,178.81L106.47,179L108.94,174.21L111.32,169.51L113.79,156.9L118.64,162.33L121.1,175.87L123.49,184.34L125.95,183.69L130.8,195.27L133.27,196.83L135.49,197.44L137.96,193.38L140.34,188.12L142.81,185.22L145.19,180.68L147.66,183.13L152.51,180.58L154.97,186.38L157.36,187.51L159.82,176.17L162.29,176.01L164.52,171.38L166.98,170.12L169.37,174.04L171.83,168.48L174.22,167.73L179.15,153.48L181.53,142.66L184,141.71L186.38,145.06L188.85,132.56L191.31,130.55L193.54,131.17L196,128.6L198.39,136.45L200.85,137.81L203.24,132.01L205.7,134.17L208.17,148.22L210.56,142.71L213.02,138.64L215.41,147.72L217.87,154.2L220.34,155.14L222.64,162.53L225.11,164.85L227.49,170.82L229.96,172.05L232.34,173.46L234.81,173.31L237.27,167.38L239.66,169.4L242.12,170.71L244.51,169.96L249.44,167.24L251.66,167.3L254.13,165.67L256.51,169.86L258.98,173.85L261.37,172.65L263.83,176.79L266.3,167.09L268.68,165.36L271.15,169.27L273.53,168.54L276,163.81L280.69,152.55L283.15,150.74L285.54,152.77L288,153.73L290.39,155.31L292.85,150.51L295.32,152.75L297.7,151.36L300.17,149.12L302.55,153.24L305.02,158.64L307.48,166.65L309.71,174.62L312.18,167.28L317.03,170.89L319.41,177.84L324.34,188.48L326.73,187.34L329.19,186.11L331.58,186.04L334.04,190.02L336.51,187.68L338.81,180.39L341.28,178.13L343.66,179.48L346.13,174.33L348.51,172.52L350.98,174.03L353.44,173.93L355.83,172.28L358.29,179.04L360.68,178.28L363.14,176.26L365.61,175.94L367.84,177.57L370.3,180.49L375.15,187.47L377.54,188.26L380,180.49L382.47,178L384.85,180.89L387.32,180.86L392.17,179.19L394.63,181.42L399.32,189.09L401.71,193.55L404.17,196.68L406.56,194.96L409.02,196.67L411.49,193.73L413.87,191.27L416.34,193.62L418.73,191.75L421.19,187.9L428.35,188.58L430.73,192.15L433.2,189.52L435.58,189.12L438.05,192.72L440.51,191.17L442.9,188.12L445.36,172.2L447.75,172.21L450.21,177.53L452.68,177.93L454.98,184.98L459.83,191.55L462.3,184.08L464.68,183.01L467.15,184.31L469.61,174.09L472,171.47\" style=\"vector-effect: non-scaling-stroke; fill: none; stroke: rgb(255, 255, 0); stroke-opacity: 1; stroke-width: 3px; opacity: 1;\"/></g><g class=\"points\"/><g class=\"text\"/></g><g class=\"trace scatter tracee5d69f\" style=\"stroke-miterlimit: 2; opacity: 1;\"><g class=\"fills\"/><g class=\"errorbars\"/><g class=\"lines\"><path class=\"js-line\" d=\"M0,236.32L2.46,240.22L4.93,240.94L9.78,249.28L12.17,249.57L17.1,247.27L19.32,244.4L21.79,236.32L24.17,237.66L26.64,240.83L29.02,239.28L33.95,238.75L36.34,238.86L41.19,238.44L43.65,238.07L46.12,234.17L48.35,234.05L53.2,237.41L55.66,237.04L60.51,230.85L62.98,226.14L65.36,210.93L67.83,209.35L70.21,214.78L72.68,212.65L75.14,213.6L77.37,213.6L82.22,206.63L84.68,203.37L87.07,194.86L89.53,194.18L92,186.08L94.38,184.43L96.85,196.97L99.23,197.87L101.7,194L104.16,184.33L106.47,163.96L108.94,156.3L111.32,152.18L113.79,153.9L116.17,157.23L118.64,177.81L123.49,215.15L125.95,222.16L128.34,227.84L130.8,221.34L133.27,216.64L135.49,218.45L137.96,215.78L140.34,208.37L142.81,203.58L145.19,206.04L147.66,207.7L150.12,207.14L152.51,203.56L154.97,202.8L162.29,209.4L164.52,207.37L166.98,207.1L169.37,210.45L171.83,210.31L174.22,208.3L179.15,198.55L181.53,197.83L184,201.76L186.38,199.62L188.85,195.9L191.31,188.79L193.54,186.07L196,181.65L198.39,185.08L200.85,181.37L203.24,181.38L205.7,185.64L208.17,195.77L210.56,198.91L213.02,203.42L215.41,210.23L217.87,207.87L220.34,200.21L222.64,201.81L225.11,201.98L229.96,206.91L232.34,198.67L234.81,190.57L237.27,186.18L239.66,184.1L242.12,183L246.97,166.74L249.44,170.02L254.13,175.86L256.51,176.01L258.98,178.2L261.37,163.4L266.3,147.67L268.68,153.5L271.15,184.34L273.53,192.64L276,197.47L278.46,200.01L283.15,175.86L285.54,179.51L295.32,216.89L297.7,220.89L300.17,219.14L302.55,222.14L305.02,218.11L307.48,223.22L309.71,229.77L312.18,220.34L314.56,218.88L317.03,219.52L321.88,229.18L324.34,233.1L329.19,228.6L331.58,228.8L334.04,233.61L336.51,232.73L338.81,224.94L341.28,219.77L343.66,213.42L346.13,198.58L350.98,193.5L353.44,204.83L358.29,231.27L360.68,233.95L363.14,233.21L365.61,230.61L370.3,230.12L372.69,229.62L375.15,225L377.54,217.34L380,213.59L382.47,220.6L384.85,225.44L387.32,226.42L392.17,224.39L394.63,225.32L396.86,222.33L399.32,215.17L404.17,199.13L406.56,202.77L411.49,208.75L413.87,208.81L416.34,218.11L418.73,216.31L421.19,211.01L423.65,210.38L425.88,211.19L428.35,213.85L430.73,215.75L433.2,213.9L435.58,210.84L438.05,214.11L440.51,213.66L442.9,223.1L445.36,228.02L447.75,221.66L450.21,219.2L452.68,218.84L454.98,222.62L457.45,218.77L459.83,215.08L462.3,203.58L469.61,207.16L472,209.4\" style=\"vector-effect: non-scaling-stroke; fill: none; stroke: rgb(255, 140, 0); stroke-opacity: 1; stroke-width: 3px; opacity: 1;\"/></g><g class=\"points\"/><g class=\"text\"/></g><g class=\"trace scatter trace016035\" style=\"stroke-miterlimit: 2; opacity: 1;\"><g class=\"fills\"/><g class=\"errorbars\"/><g class=\"lines\"><path class=\"js-line\" d=\"M43.65,208.9L48.35,224.23L50.81,224.42L53.2,225.68L55.66,223.66L58.05,224.77L60.51,223.96L62.98,212.54L65.36,213.38L70.21,207.29L72.68,206.23L75.14,202.73L77.37,192.41L79.83,190.04L82.22,180.49L84.68,164.01L87.07,155.06L89.53,162.3L92,164.03L94.38,174.62L96.85,167.66L99.23,163.25L101.7,170.84L104.16,178.03L106.47,179.07L108.94,187.42L111.32,165.57L113.79,165.72L116.17,179.84L123.49,195.29L125.95,192.46L128.34,193.87L130.8,231.99L133.27,226.9L135.49,224.92L137.96,222.58L140.34,228.57L142.81,227.79L145.19,219.64L147.66,218.96L150.12,213.19L152.51,201.73L154.97,202.47L157.36,202.48L159.82,200.5L162.29,201.56L164.52,211.56L166.98,207.56L169.37,207.57L171.83,205L174.22,196.34L176.68,194.86L179.15,187.36L181.53,183.14L184,192.8L186.38,207.97L188.85,206.31L193.54,168.19L196,188.63L198.39,188.2L200.85,170.76L203.24,156.91L205.7,155.87L208.17,182.7L210.56,178.43L213.02,171.4L215.41,182.88L217.87,183.95L220.34,190.54L222.64,193L225.11,192.19L229.96,192.07L232.34,185.06L234.81,170.71L237.27,170.48L239.66,157.03L242.12,158.2L244.51,172.68L246.97,181.76L249.44,183.63L251.66,183.15L256.51,172.82L258.98,176.4L261.37,178.22L263.83,177.11L266.3,175.2L268.68,170.48L271.15,170.75L273.53,167.5L278.46,141.53L280.69,141.52L283.15,146.93L285.54,146.66L288,155.06L290.39,154.29L292.85,148.61L295.32,133.09L297.7,138.32L300.17,150.11L302.55,189.41L305.02,186.97L307.48,191.4L309.71,191.28L312.18,186.31L314.56,186.48L317.03,183.38L319.41,186.31L321.88,186.2L324.34,191.46L326.73,192.01L329.19,197.76L331.58,205.04L334.04,204.49L338.81,203.69L341.28,205L343.66,210.35L346.13,194.06L348.51,193.82L350.98,186.08L353.44,186.97L355.83,197.79L358.29,183.59L360.68,181.04L363.14,185.71L365.61,185.18L367.84,191.62L370.3,195.77L372.69,192.55L375.15,191.57L377.54,193.32L380,188.73L382.47,187.85L384.85,185.41L387.32,194.46L389.7,194.17L392.17,207.28L394.63,203.33L399.32,200.41L401.71,193.74L404.17,195.77L406.56,203.34L409.02,187.43L411.49,189.67L413.87,198.57L416.34,200.41L418.73,204.31L421.19,202.73L423.65,194.64L425.88,196.16L428.35,190.37L430.73,187.39L433.2,187.96L435.58,181.67L438.05,179.23L440.51,174.76L442.9,162.75L445.36,161.48L447.75,168.61L450.21,183.8L452.68,184.02L454.98,188.18L457.45,219.34L459.83,213.74L462.3,155.54L464.68,132.21L467.15,164.41L469.61,166.08L472,152.17\" style=\"vector-effect: non-scaling-stroke; fill: none; stroke: rgb(128, 0, 128); stroke-opacity: 1; stroke-width: 3px; opacity: 1;\"/></g><g class=\"points\"/><g class=\"text\"/></g></g></g><g class=\"overplot\"/><path class=\"xlines-above crisp\" d=\"M0,0\" style=\"fill: none;\"/><path class=\"ylines-above crisp\" d=\"M0,0\" style=\"fill: none;\"/><g class=\"overlines-above\"/><g class=\"xaxislayer-above\"><g class=\"xtick\"><text text-anchor=\"middle\" x=\"0\" y=\"383\" transform=\"translate(94.63,0)\" style=\"font-family: 'Open Sans', verdana, arial, sans-serif; font-size: 12px; fill: rgb(42, 63, 95); fill-opacity: 1; white-space: pre;\">2005</text></g><g class=\"xtick\"><text text-anchor=\"middle\" x=\"0\" y=\"383\" transform=\"translate(239.82,0)\" style=\"font-family: 'Open Sans', verdana, arial, sans-serif; font-size: 12px; fill: rgb(42, 63, 95); fill-opacity: 1; white-space: pre;\">2010</text></g><g class=\"xtick\"><text text-anchor=\"middle\" x=\"0\" y=\"383\" transform=\"translate(385.02,0)\" style=\"font-family: 'Open Sans', verdana, arial, sans-serif; font-size: 12px; fill: rgb(42, 63, 95); fill-opacity: 1; white-space: pre;\">2015</text></g><g class=\"xtick\"><text text-anchor=\"middle\" x=\"0\" y=\"383\" transform=\"translate(530.21,0)\" style=\"font-family: 'Open Sans', verdana, arial, sans-serif; font-size: 12px; fill: rgb(42, 63, 95); fill-opacity: 1; white-space: pre;\">2020</text></g></g><g class=\"yaxislayer-above\"><g class=\"ytick\"><text text-anchor=\"end\" x=\"79\" y=\"4.199999999999999\" transform=\"translate(0,328.28)\" style=\"font-family: 'Open Sans', verdana, arial, sans-serif; font-size: 12px; fill: rgb(42, 63, 95); fill-opacity: 1; white-space: pre;\">10</text></g><g class=\"ytick\"><text text-anchor=\"end\" x=\"79\" y=\"4.199999999999999\" transform=\"translate(0,261.15)\" style=\"font-family: 'Open Sans', verdana, arial, sans-serif; font-size: 12px; fill: rgb(42, 63, 95); fill-opacity: 1; white-space: pre;\">20</text></g><g class=\"ytick\"><text text-anchor=\"end\" x=\"79\" y=\"4.199999999999999\" transform=\"translate(0,194.01999999999998)\" style=\"font-family: 'Open Sans', verdana, arial, sans-serif; font-size: 12px; fill: rgb(42, 63, 95); fill-opacity: 1; white-space: pre;\">30</text></g><g class=\"ytick\"><text text-anchor=\"end\" x=\"79\" y=\"4.199999999999999\" transform=\"translate(0,126.89)\" style=\"font-family: 'Open Sans', verdana, arial, sans-serif; font-size: 12px; fill: rgb(42, 63, 95); fill-opacity: 1; white-space: pre;\">40</text></g></g><g class=\"overaxes-above\"/></g></g><g class=\"polarlayer\"/><g class=\"ternarylayer\"/><g class=\"geolayer\"/><g class=\"funnelarealayer\"/><g class=\"pielayer\"/><g class=\"treemaplayer\"/><g class=\"sunburstlayer\"/><g class=\"glimages\"/><defs id=\"topdefs-7f791a\"><g class=\"clips\"/><clipPath id=\"legend7f791a\"><rect width=\"127\" height=\"124\" x=\"0\" y=\"0\"/></clipPath></defs><g class=\"layer-above\"><g class=\"imagelayer\"/><g class=\"shapelayer\"/></g><g class=\"infolayer\"><g class=\"legend\" pointer-events=\"all\" transform=\"translate(561.44,100)\"><rect class=\"bg\" shape-rendering=\"crispEdges\" style=\"stroke: rgb(68, 68, 68); stroke-opacity: 1; fill: rgb(255, 255, 255); fill-opacity: 1; stroke-width: 0px;\" width=\"127\" height=\"124\" x=\"0\" y=\"0\"/><g class=\"scrollbox\" transform=\"\" clip-path=\"url('#legend7f791a')\"><g class=\"groups\"><g class=\"traces\" transform=\"translate(0,14.5)\" style=\"opacity: 1;\"><text class=\"legendtext\" text-anchor=\"start\" x=\"40\" y=\"4.680000000000001\" style=\"font-family: 'Open Sans', verdana, arial, sans-serif; font-size: 12px; fill: rgb(42, 63, 95); fill-opacity: 1; white-space: pre;\">Milho (60 kg)</text><g class=\"layers\" style=\"opacity: 1;\"><g class=\"legendfill\"/><g class=\"legendlines\"><path class=\"js-line\" d=\"M5,0h30\" style=\"fill: none; stroke: rgb(255, 0, 0); stroke-opacity: 1; stroke-width: 3px;\"/></g><g class=\"legendsymbols\"><g class=\"legendpoints\"/></g></g><rect class=\"legendtoggle\" x=\"0\" y=\"-9.5\" width=\"121.359375\" height=\"19\" style=\"fill: rgb(0, 0, 0); fill-opacity: 0;\"/></g><g class=\"traces\" transform=\"translate(0,33.5)\" style=\"opacity: 1;\"><text class=\"legendtext\" text-anchor=\"start\" x=\"40\" y=\"4.680000000000001\" style=\"font-family: 'Open Sans', verdana, arial, sans-serif; font-size: 12px; fill: rgb(42, 63, 95); fill-opacity: 1; white-space: pre;\">Soja (60 kg)</text><g class=\"layers\" style=\"opacity: 1;\"><g class=\"legendfill\"/><g class=\"legendlines\"><path class=\"js-line\" d=\"M5,0h30\" style=\"fill: none; stroke: rgb(65, 105, 225); stroke-opacity: 1; stroke-width: 3px;\"/></g><g class=\"legendsymbols\"><g class=\"legendpoints\"/></g></g><rect class=\"legendtoggle\" x=\"0\" y=\"-9.5\" width=\"121.359375\" height=\"19\" style=\"fill: rgb(0, 0, 0); fill-opacity: 0;\"/></g><g class=\"traces\" transform=\"translate(0,52.5)\" style=\"opacity: 1;\"><text class=\"legendtext\" text-anchor=\"start\" x=\"40\" y=\"4.680000000000001\" style=\"font-family: 'Open Sans', verdana, arial, sans-serif; font-size: 12px; fill: rgb(42, 63, 95); fill-opacity: 1; white-space: pre;\">Arroz (60 kg)</text><g class=\"layers\" style=\"opacity: 1;\"><g class=\"legendfill\"/><g class=\"legendlines\"><path class=\"js-line\" d=\"M5,0h30\" style=\"fill: none; stroke: rgb(0, 128, 0); stroke-opacity: 1; stroke-width: 3px;\"/></g><g class=\"legendsymbols\"><g class=\"legendpoints\"/></g></g><rect class=\"legendtoggle\" x=\"0\" y=\"-9.5\" width=\"121.359375\" height=\"19\" style=\"fill: rgb(0, 0, 0); fill-opacity: 0;\"/></g><g class=\"traces\" transform=\"translate(0,71.5)\" style=\"opacity: 1;\"><text class=\"legendtext\" text-anchor=\"start\" x=\"40\" y=\"4.680000000000001\" style=\"font-family: 'Open Sans', verdana, arial, sans-serif; font-size: 12px; fill: rgb(42, 63, 95); fill-opacity: 1; white-space: pre;\">Pecuária (6 kg)</text><g class=\"layers\" style=\"opacity: 1;\"><g class=\"legendfill\"/><g class=\"legendlines\"><path class=\"js-line\" d=\"M5,0h30\" style=\"fill: none; stroke: rgb(255, 255, 0); stroke-opacity: 1; stroke-width: 3px;\"/></g><g class=\"legendsymbols\"><g class=\"legendpoints\"/></g></g><rect class=\"legendtoggle\" x=\"0\" y=\"-9.5\" width=\"121.359375\" height=\"19\" style=\"fill: rgb(0, 0, 0); fill-opacity: 0;\"/></g><g class=\"traces\" transform=\"translate(0,90.5)\" style=\"opacity: 1;\"><text class=\"legendtext\" text-anchor=\"start\" x=\"40\" y=\"4.680000000000001\" style=\"font-family: 'Open Sans', verdana, arial, sans-serif; font-size: 12px; fill: rgb(42, 63, 95); fill-opacity: 1; white-space: pre;\">Trigo (60 kg)</text><g class=\"layers\" style=\"opacity: 1;\"><g class=\"legendfill\"/><g class=\"legendlines\"><path class=\"js-line\" d=\"M5,0h30\" style=\"fill: none; stroke: rgb(255, 140, 0); stroke-opacity: 1; stroke-width: 3px;\"/></g><g class=\"legendsymbols\"><g class=\"legendpoints\"/></g></g><rect class=\"legendtoggle\" x=\"0\" y=\"-9.5\" width=\"121.359375\" height=\"19\" style=\"fill: rgb(0, 0, 0); fill-opacity: 0;\"/></g><g class=\"traces\" transform=\"translate(0,109.5)\" style=\"opacity: 1;\"><text class=\"legendtext\" text-anchor=\"start\" x=\"40\" y=\"4.680000000000001\" style=\"font-family: 'Open Sans', verdana, arial, sans-serif; font-size: 12px; fill: rgb(42, 63, 95); fill-opacity: 1; white-space: pre;\">Leite (90 ton)</text><g class=\"layers\" style=\"opacity: 1;\"><g class=\"legendfill\"/><g class=\"legendlines\"><path class=\"js-line\" d=\"M5,0h30\" style=\"fill: none; stroke: rgb(128, 0, 128); stroke-opacity: 1; stroke-width: 3px;\"/></g><g class=\"legendsymbols\"><g class=\"legendpoints\"/></g></g><rect class=\"legendtoggle\" x=\"0\" y=\"-9.5\" width=\"121.359375\" height=\"19\" style=\"fill: rgb(0, 0, 0); fill-opacity: 0;\"/></g></g></g><rect class=\"scrollbar\" rx=\"20\" ry=\"3\" width=\"0\" height=\"0\" style=\"fill: rgb(128, 139, 164); fill-opacity: 1;\" x=\"0\" y=\"0\"/></g><g class=\"rangeselector\" transform=\"translate(80,76)\" style=\"cursor: pointer; pointer-events: all;\"><g class=\"button\" transform=\"\"><rect class=\"selector-rect\" shape-rendering=\"crispEdges\" rx=\"3\" ry=\"3\" style=\"stroke: rgb(68, 68, 68); stroke-opacity: 1; fill: rgb(238, 238, 238); fill-opacity: 1; stroke-width: 0px;\" x=\"0\" y=\"0\" width=\"34.328125\" height=\"19\"/><text class=\"selector-text\" text-anchor=\"middle\" x=\"17.1640625\" y=\"12.5\" style=\"font-family: 'Open Sans', verdana, arial, sans-serif; font-size: 12px; fill: rgb(0, 0, 0); fill-opacity: 1; white-space: pre;\">YTD</text></g><g class=\"button\" transform=\"translate(39.328125,0)\"><rect class=\"selector-rect\" shape-rendering=\"crispEdges\" rx=\"3\" ry=\"3\" style=\"stroke: rgb(68, 68, 68); stroke-opacity: 1; fill: rgb(238, 238, 238); fill-opacity: 1; stroke-width: 0px;\" x=\"0\" y=\"0\" width=\"30\" height=\"19\"/><text class=\"selector-text\" text-anchor=\"middle\" x=\"15\" y=\"12.5\" style=\"font-family: 'Open Sans', verdana, arial, sans-serif; font-size: 12px; fill: rgb(0, 0, 0); fill-opacity: 1; white-space: pre;\">1y</text></g><g class=\"button\" transform=\"translate(74.328125,0)\"><rect class=\"selector-rect\" shape-rendering=\"crispEdges\" rx=\"3\" ry=\"3\" style=\"stroke: rgb(68, 68, 68); stroke-opacity: 1; fill: rgb(238, 238, 238); fill-opacity: 1; stroke-width: 0px;\" x=\"0\" y=\"0\" width=\"30\" height=\"19\"/><text class=\"selector-text\" text-anchor=\"middle\" x=\"15\" y=\"12.5\" style=\"font-family: 'Open Sans', verdana, arial, sans-serif; font-size: 12px; fill: rgb(0, 0, 0); fill-opacity: 1; white-space: pre;\">4y</text></g><g class=\"button\" transform=\"translate(109.328125,0)\"><rect class=\"selector-rect\" shape-rendering=\"crispEdges\" rx=\"3\" ry=\"3\" style=\"stroke: rgb(68, 68, 68); stroke-opacity: 1; fill: rgb(238, 238, 238); fill-opacity: 1; stroke-width: 0px;\" x=\"0\" y=\"0\" width=\"30\" height=\"19\"/><text class=\"selector-text\" text-anchor=\"middle\" x=\"15\" y=\"12.5\" style=\"font-family: 'Open Sans', verdana, arial, sans-serif; font-size: 12px; fill: rgb(0, 0, 0); fill-opacity: 1; white-space: pre;\">8y</text></g><g class=\"button\" transform=\"translate(144.328125,0)\"><rect class=\"selector-rect\" shape-rendering=\"crispEdges\" rx=\"3\" ry=\"3\" style=\"stroke: rgb(68, 68, 68); stroke-opacity: 1; fill: rgb(238, 238, 238); fill-opacity: 1; stroke-width: 0px;\" x=\"0\" y=\"0\" width=\"30\" height=\"19\"/><text class=\"selector-text\" text-anchor=\"middle\" x=\"15\" y=\"12.5\" style=\"font-family: 'Open Sans', verdana, arial, sans-serif; font-size: 12px; fill: rgb(0, 0, 0); fill-opacity: 1; white-space: pre;\">12y</text></g><g class=\"button\" transform=\"translate(179.328125,0)\"><rect class=\"selector-rect\" shape-rendering=\"crispEdges\" rx=\"3\" ry=\"3\" style=\"stroke: rgb(68, 68, 68); stroke-opacity: 1; fill: rgb(212, 212, 212); fill-opacity: 1; stroke-width: 0px;\" x=\"0\" y=\"0\" width=\"30\" height=\"19\"/><text class=\"selector-text\" text-anchor=\"middle\" x=\"15\" y=\"12.5\" style=\"font-family: 'Open Sans', verdana, arial, sans-serif; font-size: 12px; fill: rgb(0, 0, 0); fill-opacity: 1; white-space: pre;\">all</text></g></g><g class=\"g-gtitle\"><text class=\"gtitle\" x=\"35\" y=\"50\" text-anchor=\"start\" dy=\"0em\" style=\"font-family: 'Open Sans', verdana, arial, sans-serif; font-size: 17px; fill: rgb(42, 63, 95); opacity: 1; font-weight: normal; white-space: pre;\">Cotação das Commodities (Deflacionado Dólar)</text></g><g class=\"g-xtitle\"><text class=\"xtitle\" x=\"316\" y=\"410.8\" text-anchor=\"middle\" style=\"font-family: 'Open Sans', verdana, arial, sans-serif; font-size: 14px; fill: rgb(42, 63, 95); opacity: 1; font-weight: normal; white-space: pre;\">Data</text></g><g class=\"g-ytitle\"><text class=\"ytitle\" transform=\"rotate(-90,40.840625,235)\" x=\"40.840625\" y=\"235\" text-anchor=\"middle\" style=\"font-family: 'Open Sans', verdana, arial, sans-serif; font-size: 14px; fill: rgb(42, 63, 95); opacity: 1; font-weight: normal; white-space: pre;\">Preço (US$)</text></g></g></svg>"
          },
          "metadata": {
            "tags": []
          }
        }
      ]
    },
    {
      "cell_type": "code",
      "metadata": {
        "id": "kZQPW_k_zqjL",
        "colab": {
          "base_uri": "https://localhost:8080/",
          "height": 471
        },
        "outputId": "1e36655b-3ba2-405c-f2c3-dbede51a12f3"
      },
      "source": [
        "import plotly.graph_objects as go\n",
        "\n",
        "# Initialize figure\n",
        "fig = go.Figure()\n",
        "\n",
        "# Add Traces\n",
        "fig.add_trace(go.Scatter(x=milho.Data, y=milho.Deflacionado_BR,\n",
        "                    line=dict(color='red', width=3), name='Milho (60 kg)'))\n",
        "fig.add_trace(go.Scatter(x=soja.Data, y=soja.Deflacionado_BR,\n",
        "                    line=dict(color='royalblue', width=3), name='Soja (60 kg)'))\n",
        "fig.add_trace(go.Scatter(x=arroz.Data, y=arroz.Deflacionado_BR,\n",
        "                    line=dict(color='green', width=3), name='Arroz (60 kg)'))\n",
        "fig.add_trace(go.Scatter(x=pecuaria.Data, y=pecuaria.Deflacionado_BR,\n",
        "                    line=dict(color='yellow', width=3), name='Pecuária (6 kg)'))\n",
        "fig.add_trace(go.Scatter(x=trigo.Data, y=trigo.Deflacionado_BR,\n",
        "                    line=dict(color='darkorange', width=3), name='Trigo (60 kg)'))\n",
        "fig.add_trace(go.Scatter(x=leite.Data, y=leite.Deflacionado_BR,\n",
        "                    line=dict(color='purple', width=3), name='Leite (60 kg)'))\n",
        "\n",
        "# Edit the layout\n",
        "fig.update_layout(title='Cotação das Commodities (Deflacionado IPCA)',\n",
        "                   xaxis_title='Data', yaxis_title='Preço (R$)',\n",
        "                   )#template='plotly_dark')\n",
        "\n",
        "# Add range slider\n",
        "fig.update_layout(\n",
        "    xaxis=dict(\n",
        "        rangeselector=dict(\n",
        "            buttons=list([\n",
        "                dict(count=1,\n",
        "                     label=\"YTD\",\n",
        "                     step=\"year\",\n",
        "                     stepmode=\"todate\"),\n",
        "                dict(count=1,\n",
        "                     label=\"1y\",\n",
        "                     step=\"year\",\n",
        "                     stepmode=\"backward\"),\n",
        "                dict(count=4,\n",
        "                     label=\"4y\",\n",
        "                     step=\"year\",\n",
        "                     stepmode=\"backward\"),\n",
        "                dict(count=8,\n",
        "                     label=\"8y\",\n",
        "                     step=\"year\",\n",
        "                     stepmode=\"backward\"),\n",
        "                dict(count=12,\n",
        "                     label=\"12y\",\n",
        "                     step=\"year\",\n",
        "                     stepmode=\"backward\"),\n",
        "                dict(step=\"all\"),\n",
        "            ])\n",
        "        ),\n",
        "        \n",
        "        type=\"date\"\n",
        "    )\n",
        ")\n",
        "\n",
        "fig.update_xaxes(rangeselector_font_color='black')\n",
        "\n",
        "# fig.show()\n",
        "fig.show('svg');"
      ],
      "execution_count": 18,
      "outputs": [
        {
          "output_type": "display_data",
          "data": {
            "image/svg+xml": "<svg class=\"main-svg\" xmlns=\"http://www.w3.org/2000/svg\" xmlns:xlink=\"http://www.w3.org/1999/xlink\" width=\"700\" height=\"450\" viewBox=\"0 0 700 450\"><rect x=\"0\" y=\"0\" width=\"700\" height=\"450\" style=\"fill: rgb(255, 255, 255); fill-opacity: 1;\"/><defs id=\"defs-2ccdd3\"><g class=\"clips\"><clipPath id=\"clip2ccdd3xyplot\" class=\"plotclip\"><rect width=\"472\" height=\"270\"/></clipPath><clipPath class=\"axesclip\" id=\"clip2ccdd3x\"><rect x=\"80\" y=\"0\" width=\"472\" height=\"450\"/></clipPath><clipPath class=\"axesclip\" id=\"clip2ccdd3y\"><rect x=\"0\" y=\"100\" width=\"700\" height=\"270\"/></clipPath><clipPath class=\"axesclip\" id=\"clip2ccdd3xy\"><rect x=\"80\" y=\"100\" width=\"472\" height=\"270\"/></clipPath></g><g class=\"gradients\"/></defs><g class=\"bglayer\"><rect class=\"bg\" x=\"80\" y=\"100\" width=\"472\" height=\"270\" style=\"fill: rgb(229, 236, 246); fill-opacity: 1; stroke-width: 0;\"/></g><g class=\"layer-below\"><g class=\"imagelayer\"/><g class=\"shapelayer\"/></g><g class=\"cartesianlayer\"><g class=\"subplot xy\"><g class=\"layer-subplot\"><g class=\"shapelayer\"/><g class=\"imagelayer\"/></g><g class=\"gridlayer\"><g class=\"x\"><path class=\"xgrid crisp\" transform=\"translate(94.63,0)\" d=\"M0,100v270\" style=\"stroke: rgb(255, 255, 255); stroke-opacity: 1; stroke-width: 1px;\"/><path class=\"xgrid crisp\" transform=\"translate(239.82,0)\" d=\"M0,100v270\" style=\"stroke: rgb(255, 255, 255); stroke-opacity: 1; stroke-width: 1px;\"/><path class=\"xgrid crisp\" transform=\"translate(385.02,0)\" d=\"M0,100v270\" style=\"stroke: rgb(255, 255, 255); stroke-opacity: 1; stroke-width: 1px;\"/><path class=\"xgrid crisp\" transform=\"translate(530.21,0)\" d=\"M0,100v270\" style=\"stroke: rgb(255, 255, 255); stroke-opacity: 1; stroke-width: 1px;\"/></g><g class=\"y\"><path class=\"ygrid crisp\" transform=\"translate(0,296.39)\" d=\"M80,0h472\" style=\"stroke: rgb(255, 255, 255); stroke-opacity: 1; stroke-width: 1px;\"/><path class=\"ygrid crisp\" transform=\"translate(0,211.93)\" d=\"M80,0h472\" style=\"stroke: rgb(255, 255, 255); stroke-opacity: 1; stroke-width: 1px;\"/><path class=\"ygrid crisp\" transform=\"translate(0,127.48)\" d=\"M80,0h472\" style=\"stroke: rgb(255, 255, 255); stroke-opacity: 1; stroke-width: 1px;\"/></g></g><g class=\"zerolinelayer\"/><path class=\"xlines-below\"/><path class=\"ylines-below\"/><g class=\"overlines-below\"/><g class=\"xaxislayer-below\"/><g class=\"yaxislayer-below\"/><g class=\"overaxes-below\"/><g class=\"plot\" transform=\"translate(80,100)\" clip-path=\"url('#clip2ccdd3xyplot')\"><g class=\"scatterlayer mlayer\"><g class=\"trace scatter tracea511c7\" style=\"stroke-miterlimit: 2; opacity: 1;\"><g class=\"fills\"/><g class=\"errorbars\"/><g class=\"lines\"><path class=\"js-line\" d=\"M0,250.48L2.46,250.02L4.93,248.77L12.17,252.14L14.63,250.91L17.1,251.5L19.32,247.16L24.17,248.87L26.64,247.81L33.95,249.94L36.34,251.03L38.8,253.12L41.19,252.67L43.65,251.37L46.12,253.05L48.35,256.25L50.81,256.5L55.66,252.96L58.05,252.7L60.51,252.38L62.98,250.6L65.36,245.33L67.83,242.23L70.21,238.88L72.68,238.76L77.37,246.85L79.83,248.47L82.22,248.95L84.68,247.86L87.07,248.87L89.53,243.64L92,235.4L94.38,234.76L96.85,227.47L99.23,224.17L104.16,234.13L106.47,235.13L108.94,236.12L111.32,234.87L113.79,235.77L116.17,234.2L118.64,239.47L121.1,240.78L125.95,246.32L128.34,245.89L130.8,241.05L133.27,243.45L135.49,246.08L137.96,245.05L140.34,243.43L142.81,243.41L147.66,248.09L150.12,248.62L152.51,246.14L154.97,246.51L159.82,247.88L162.29,250.08L164.52,249.8L166.98,250.34L171.83,248.02L174.22,249.02L176.68,246.13L179.15,239.88L181.53,238.68L184,233.45L186.38,233.24L188.85,230L191.31,227.75L193.54,228.15L198.39,232.61L200.85,228.98L205.7,230.02L208.17,227.21L215.41,233.48L217.87,228.64L220.34,233.08L222.64,232.14L225.11,237.49L227.49,238.92L229.96,240.11L232.34,232.05L234.81,224.91L237.27,226.71L239.66,228.2L242.12,223.6L244.51,222.25L246.97,225.99L249.44,226.54L251.66,229.21L254.13,236.48L256.51,237.05L258.98,236.28L261.37,238.63L263.83,240.33L266.3,238.64L268.68,240.33L271.15,237.85L276,235.77L278.46,229.47L280.69,225.88L283.15,228.52L290.39,240.88L292.85,242.24L295.32,243.86L297.7,241.11L300.17,234.36L302.55,234.46L305.02,235.11L307.48,234.13L309.71,231.76L312.18,234.53L314.56,238.35L317.03,238.89L321.88,234.66L324.34,228.69L326.73,225.84L329.19,224.7L331.58,221.73L334.04,211.37L336.51,208.89L338.81,200.47L341.28,198.71L343.66,194.56L346.13,198.16L348.51,206.2L350.98,204.44L353.44,210.11L355.83,209.88L358.29,215.47L360.68,216.36L363.14,220.4L365.61,219.88L367.84,223.94L370.3,233.07L372.69,234.1L377.54,236.47L380,235.88L384.85,228.26L387.32,227.36L392.17,225.77L394.63,222.31L396.86,211.03L399.32,213.56L401.71,209.02L404.17,213.2L406.56,218.18L409.02,211.24L411.49,213.08L413.87,219.58L416.34,218.96L418.73,217.04L421.19,215.33L423.65,212.07L425.88,214.08L428.35,219.67L430.73,222.07L433.2,216.59L438.05,219.41L440.51,217.24L445.36,205.99L447.75,200.42L450.21,194.76L452.68,193.75L454.98,183.94L457.45,191.18L462.3,200.38L464.68,197.19L467.15,185.43L469.61,180.04L472,159.08\" style=\"vector-effect: non-scaling-stroke; fill: none; stroke: rgb(255, 0, 0); stroke-opacity: 1; stroke-width: 3px; opacity: 1;\"/></g><g class=\"points\"/><g class=\"text\"/></g><g class=\"trace scatter trace777c2b\" style=\"stroke-miterlimit: 2; opacity: 1;\"><g class=\"fills\"/><g class=\"errorbars\"/><g class=\"lines\"><path class=\"js-line\" d=\"M48.35,234.1L50.81,235.3L53.2,232.45L55.66,231.06L58.05,230.94L60.51,232.03L62.98,231.79L67.83,222.97L70.21,224.85L72.68,224.2L75.14,222.47L77.37,223.61L79.83,226.99L82.22,226.74L84.68,225.36L87.07,224.14L89.53,218.45L92,211.21L94.38,209.77L99.23,207.02L101.7,200.32L104.16,196.82L106.47,200.05L108.94,202.36L111.32,202.66L113.79,193.07L116.17,191.86L118.64,201.95L121.1,199.74L123.49,202.4L125.95,201.2L128.34,202.13L130.8,195.08L135.49,200.48L137.96,196.52L140.34,192.11L142.81,192.7L145.19,196.69L147.66,196.41L150.12,202.87L152.51,206.8L154.97,210.17L157.36,211.19L159.82,213.41L162.29,216.75L164.52,218.03L166.98,217.98L171.83,215.12L174.22,210.97L176.68,206.84L179.15,205.59L181.53,204.19L184,198.47L186.38,197.6L188.85,195.78L191.31,194.73L193.54,197.82L196,201.74L198.39,200.43L203.24,199.05L205.7,197.74L208.17,193.57L210.56,199.32L213.02,200.62L215.41,200.67L217.87,197.61L220.34,197.91L225.11,179.55L227.49,173.48L229.96,165.99L232.34,147.37L234.81,136.88L237.27,135.03L239.66,153.68L242.12,153.69L244.51,153.93L246.97,160.28L249.44,173.37L251.66,176.88L254.13,180.97L256.51,176.69L258.98,165.07L261.37,163.79L263.83,163.09L266.3,157.18L268.68,156.83L271.15,152.57L273.53,151.55L276,159.41L278.46,163.9L280.69,159.88L283.15,161.53L285.54,161.9L288,161.63L290.39,167.18L292.85,167.77L295.32,174.93L297.7,177.95L300.17,178.04L305.02,178.84L307.48,174.51L309.71,167.65L312.18,164.23L314.56,169.16L317.03,167.09L321.88,150.51L324.34,144.17L326.73,143.5L329.19,147.12L331.58,145.73L334.04,142.82L338.81,155.49L341.28,149.83L346.13,120.62L348.51,133.88L350.98,143.47L353.44,146.67L355.83,151.63L358.29,148.88L360.68,148.76L363.14,152.91L365.61,156.5L367.84,162.88L370.3,169.82L372.69,164.76L375.15,164.11L377.54,159.11L380,163.12L382.47,162.1L384.85,160.63L387.32,156.42L389.7,155.99L392.17,159.87L394.63,155.04L396.86,146.87L399.32,136.69L401.71,135.96L404.17,139.34L406.56,132.2L409.02,128.84L411.49,120.34L418.73,144.06L421.19,151.38L425.88,149.62L428.35,152.26L430.73,148.66L433.2,142.52L435.58,147.96L438.05,137.29L445.36,129.82L447.75,133.64L452.68,133.23L454.98,120.54L459.83,93.64L462.3,95.93L464.68,85.53L467.15,64.17L469.61,43.86L472,13.5\" style=\"vector-effect: non-scaling-stroke; fill: none; stroke: rgb(65, 105, 225); stroke-opacity: 1; stroke-width: 3px; opacity: 1;\"/></g><g class=\"points\"/><g class=\"text\"/></g><g class=\"trace scatter tracef190f5\" style=\"stroke-miterlimit: 2; opacity: 1;\"><g class=\"fills\"/><g class=\"errorbars\"/><g class=\"lines\"><path class=\"js-line\" d=\"M26.64,239.46L29.02,240.08L31.49,244.52L33.95,246.64L36.34,246.36L41.19,238.45L43.65,239.03L46.12,243.33L48.35,245.6L50.81,247.04L53.2,247.55L55.66,240.72L58.05,239.37L60.51,240L62.98,239.76L65.36,233.79L67.83,230.24L75.14,243.28L77.37,239.42L79.83,238.91L82.22,239.34L84.68,238.8L87.07,237.37L89.53,233.39L92,232.22L96.85,236.24L99.23,234.91L101.7,229.98L104.16,231.04L106.47,235.09L108.94,222.87L111.32,211.02L113.79,214.1L118.64,213.57L121.1,210.49L123.49,208.3L125.95,214.23L128.34,216.5L130.8,215.85L133.27,217.89L135.49,222.99L142.81,229.12L145.19,224.47L147.66,226.16L150.12,224.45L152.51,224.83L154.97,227.1L157.36,223.79L159.82,216.4L162.29,219.68L164.52,225.65L166.98,224.35L169.37,224.03L171.83,226.68L174.22,226.28L176.68,225.33L179.15,227.33L181.53,229.2L184,229.34L186.38,230.97L188.85,235.35L191.31,236.06L193.54,238.03L196,241.96L198.39,242.35L200.85,241.31L203.24,236.72L205.7,233.22L208.17,234.04L213.02,229.28L215.41,229.21L220.34,226.02L222.64,228.43L229.96,222.71L232.34,221.42L234.81,214.12L237.27,204.4L239.66,202.36L242.12,203.63L246.97,211.51L249.44,212.76L251.66,216.87L254.13,217.75L256.51,213.43L258.98,212.43L261.37,211.01L263.83,210.8L268.68,212.86L271.15,212.07L273.53,208.52L276,207.04L278.46,209.08L280.69,212.9L285.54,207.46L288,206.93L290.39,207.96L292.85,207.61L295.32,206.67L297.7,206.68L302.55,204.43L305.02,204.44L307.48,205.93L309.71,209.22L312.18,208.83L314.56,210.6L317.03,213.31L319.41,212.97L321.88,210.72L324.34,204.8L326.73,199.44L329.19,198.21L331.58,198.51L334.04,197.74L336.51,196.59L338.81,199.49L341.28,200.66L343.66,196.83L348.51,179.05L350.98,178.93L353.44,179.46L355.83,180.83L358.29,181.62L360.68,181.5L363.14,180.61L365.61,181.81L367.84,195.4L370.3,201.86L372.69,202.06L375.15,200.09L377.54,199.49L380,200.63L382.47,205.26L384.85,207.33L387.32,205.51L389.7,205.47L392.17,206.55L394.63,209.26L396.86,209.84L399.32,208.54L401.71,206.53L404.17,202.8L406.56,195.95L409.02,191.25L411.49,189L413.87,190.56L418.73,199.58L421.19,199.68L423.65,200.23L425.88,201.76L430.73,191.33L433.2,191.71L435.58,193.69L438.05,192.26L440.51,188.78L442.9,187.84L445.36,186.87L447.75,184.86L450.21,180.52L452.68,178.7L454.98,179.95L457.45,169.54L459.83,157.3L462.3,155.66L464.68,150.23L467.15,121.22L469.61,70.6L472,69.07\" style=\"vector-effect: non-scaling-stroke; fill: none; stroke: rgb(0, 128, 0); stroke-opacity: 1; stroke-width: 3px; opacity: 1;\"/></g><g class=\"points\"/><g class=\"text\"/></g><g class=\"trace scatter trace75e54c\" style=\"stroke-miterlimit: 2; opacity: 1;\"><g class=\"fills\"/><g class=\"errorbars\"/><g class=\"lines\"><path class=\"js-line\" d=\"M0,240.47L2.46,239.97L4.93,240.52L9.78,239.73L12.17,240.45L14.63,242.49L17.1,242.76L21.79,243.86L24.17,244.36L29.02,244.64L31.49,245.82L33.95,245.96L36.34,243.55L38.8,243.24L41.19,245.75L43.65,247.01L46.12,246.34L48.35,246.78L50.81,245.88L53.2,247.01L55.66,246.55L58.05,246.03L60.51,243.78L62.98,242.15L65.36,242.13L67.83,244.48L70.21,245.65L72.68,243.42L75.14,242.87L77.37,241.93L79.83,242.04L82.22,241.95L84.68,240.53L87.07,238.91L89.53,238.72L92,240.3L94.38,238.06L96.85,234.34L99.23,236.03L101.7,227.76L104.16,228.01L111.32,225.19L113.79,220.34L116.17,221.44L118.64,221.24L121.1,222.48L123.49,221.45L125.95,222.73L128.34,225.52L130.8,225.77L133.27,226.9L135.49,228.37L137.96,227.52L145.19,226.5L147.66,228.09L150.12,228.05L152.51,229.01L154.97,230.38L157.36,229.05L159.82,226.29L162.29,226.26L164.52,224.58L166.98,224.61L169.37,225.09L171.83,223.71L174.22,223.41L176.68,220.28L179.15,218.67L181.53,214.78L184,213.48L186.38,215.31L188.85,212.21L191.31,211.26L193.54,210.95L196,211.58L200.85,214.55L203.24,212.72L208.17,213.89L210.56,212.89L213.02,209.92L215.41,212.9L220.34,216.5L222.64,217.12L225.11,216.98L227.49,217.62L229.96,217.56L232.34,219.1L234.81,218.84L237.27,216.45L239.66,216.75L242.12,216.04L244.51,216.62L246.97,214.47L254.13,212.78L256.51,213.88L261.37,211.75L263.83,212.43L266.3,209.11L268.68,209.45L271.15,209.2L273.53,207.63L276,201.61L278.46,198.99L280.69,196.24L283.15,196.84L288,198.41L290.39,199.22L292.85,196.36L295.32,194.93L300.17,188.98L302.55,189.65L305.02,184.93L307.48,184.4L309.71,183.72L312.18,181.55L319.41,184.92L321.88,184.31L326.73,182.41L329.19,182.44L331.58,182.93L334.04,179.89L336.51,177.56L338.81,176.54L341.28,176.58L343.66,177.75L346.13,176.26L348.51,176.95L350.98,179.4L353.44,178.77L358.29,178.75L360.68,179.47L363.14,183.46L365.61,184.77L370.3,187.56L372.69,189.08L375.15,190.8L377.54,194.02L380,187.59L382.47,185.43L384.85,187.12L387.32,186.08L392.17,182.44L394.63,183.11L396.86,183.2L399.32,184.2L401.71,185.08L404.17,186.83L406.56,184.37L409.02,182.94L411.49,181.01L413.87,182.03L416.34,182.08L418.73,180.79L421.19,177.16L423.65,176.01L428.35,173.79L430.73,175.46L433.2,175.26L435.58,176.95L438.05,175.7L440.51,172.17L442.9,170.47L445.36,151.87L447.75,155.19L450.21,143.88L452.68,139.57L454.98,139.19L457.45,138.56L459.83,138.95L462.3,134.82L464.68,133.07L467.15,129.01L469.61,117.99L472,112.15\" style=\"vector-effect: non-scaling-stroke; fill: none; stroke: rgb(255, 255, 0); stroke-opacity: 1; stroke-width: 3px; opacity: 1;\"/></g><g class=\"points\"/><g class=\"text\"/></g><g class=\"trace scatter tracec471b8\" style=\"stroke-miterlimit: 2; opacity: 1;\"><g class=\"fills\"/><g class=\"errorbars\"/><g class=\"lines\"><path class=\"js-line\" d=\"M0,234.74L2.46,238.34L4.93,240.32L9.78,247.55L12.17,248.7L17.1,248.59L19.32,245.24L21.79,241.51L24.17,244.41L26.64,246.86L29.02,246.32L31.49,246.04L33.95,246.72L38.8,248.18L41.19,247.13L48.35,246.65L50.81,247.96L53.2,247.74L55.66,246.37L58.05,245.91L60.51,244.48L62.98,242.34L65.36,234.76L67.83,233.34L70.21,236.33L72.68,235.58L75.14,236.82L79.83,236.47L82.22,235.56L84.68,235L87.07,232.21L92,227.28L94.38,228.94L96.85,235.29L99.23,235.56L101.7,233.89L104.16,230.9L106.47,222.35L108.94,219.8L111.32,219.04L113.79,220.77L116.17,222.73L118.64,230.74L121.1,234.18L123.49,235.51L125.95,238.73L128.34,240.11L133.27,235.15L135.49,236.32L137.96,237.21L140.34,236.5L142.81,236.37L145.19,238.42L147.66,240.76L150.12,241.06L157.36,240.09L159.82,240.65L164.52,240.57L166.98,241.14L174.22,241.57L176.68,239.88L179.15,238.67L181.53,239.32L184,240.34L186.38,239.64L188.85,238.55L191.31,235.5L193.54,234.33L196,234.38L198.39,234.68L200.85,233.74L210.56,236.55L213.02,238.23L215.41,240.48L217.87,240.56L222.64,237.57L225.11,236.49L227.49,235.06L229.96,234.46L237.27,224.33L239.66,223.11L242.12,221.59L244.51,217L246.97,214.67L249.44,217.71L254.13,220.3L256.51,218.99L258.98,215.76L261.37,204.6L263.83,197.06L266.3,195.84L268.68,202.28L271.15,216.16L273.53,219.79L276,221.51L278.46,223.43L280.69,218.13L283.15,212.82L285.54,214.98L292.85,230.59L295.32,234.27L297.7,234.34L300.17,231.46L302.55,232.15L305.02,230.27L309.71,229.66L312.18,223.98L314.56,222.34L317.03,221.85L319.41,223.88L321.88,222.32L326.73,218.15L329.19,217.67L331.58,216.17L334.04,217.71L336.51,218.12L338.81,215.08L341.28,212.92L343.66,207.68L346.13,197.09L348.51,198.47L350.98,198.09L353.44,205.64L358.29,226.2L360.68,228.08L363.14,229.79L365.61,229.05L370.3,228.2L372.69,226.91L377.54,217.11L380,214.85L382.47,220.6L384.85,223.7L389.7,221.96L392.17,222.47L394.63,222.58L396.86,219.2L399.32,210.48L401.71,198.62L404.17,187.8L406.56,189.33L411.49,189.71L413.87,197.15L416.34,205.42L418.73,202.19L421.19,200.51L423.65,200.37L425.88,198.51L428.35,199.79L430.73,199.44L433.2,200.36L438.05,197.22L440.51,194.54L442.9,205.29L445.36,209.25L450.21,199.46L452.68,195.38L454.98,189.91L457.45,177.44L459.83,166.5L462.3,160.37L464.68,159.54L467.15,155.98L469.61,160.16L472,158.58\" style=\"vector-effect: non-scaling-stroke; fill: none; stroke: rgb(255, 140, 0); stroke-opacity: 1; stroke-width: 3px; opacity: 1;\"/></g><g class=\"points\"/><g class=\"text\"/></g><g class=\"trace scatter trace8428c9\" style=\"stroke-miterlimit: 2; opacity: 1;\"><g class=\"fills\"/><g class=\"errorbars\"/><g class=\"lines\"><path class=\"js-line\" d=\"M43.65,240.78L46.12,241.1L48.35,239.79L50.81,239.3L53.2,236.74L55.66,237.58L58.05,240L62.98,240.92L65.36,240.53L70.21,239.7L72.68,239.3L77.37,238.04L79.83,236.09L84.68,228.59L87.07,220.76L89.53,213.16L92,210.75L94.38,223.5L96.85,225.39L104.16,223.38L106.47,221.75L111.32,217.25L113.79,216.2L116.17,216.25L118.64,221.24L123.49,229.78L125.95,229.29L128.34,228.32L130.8,225.24L135.49,224.87L137.96,225.8L145.19,213.14L147.66,211.7L152.51,219.74L154.97,224.89L159.82,226.35L162.29,225.66L166.98,211.53L169.37,211.03L171.83,214.85L174.22,220.86L176.68,222.79L179.15,223.74L181.53,224.6L184,221.65L193.54,214.71L196,210.43L198.39,205.89L200.85,204.34L203.24,207.36L205.7,207.92L208.17,205.37L210.56,205.03L213.02,209.18L215.41,207.08L217.87,206.83L220.34,204.72L222.64,203.08L225.11,202.67L227.49,202.34L229.96,204.05L232.34,205.93L234.81,206.82L242.12,204.8L244.51,205.32L246.97,205.65L249.44,204.28L251.66,203.24L254.13,200.9L256.51,197.53L258.98,195.37L266.3,183.46L268.68,183.71L271.15,185.32L273.53,188.88L278.46,193.08L280.69,191.86L283.15,187.09L285.54,184.68L288,183.88L290.39,185.39L292.85,187.12L295.32,187.86L297.7,189.45L300.17,192.2L302.55,193.79L305.02,198.18L307.48,199.88L309.71,199.64L312.18,197.38L314.56,194.02L319.41,191.46L321.88,190.81L324.34,192.03L326.73,191.05L329.19,191.88L331.58,190.95L334.04,189.02L336.51,184.99L343.66,172.09L346.13,166.71L348.51,150.82L350.98,126.31L353.44,129.91L355.83,141.58L358.29,155.91L360.68,159.71L363.14,161.34L365.61,157.64L367.84,155.43L370.3,154.82L372.69,152.56L375.15,153.9L377.54,158.4L380,166.8L382.47,173.79L384.85,184.86L392.17,184.98L394.63,182.13L396.86,181.38L399.32,171.46L401.71,160.36L404.17,160.02L406.56,138.78L409.02,132.6L411.49,138.77L413.87,141.58L416.34,149.51L418.73,164.85L421.19,160.79L423.65,148.75L425.88,141.42L428.35,136.9L433.2,129.21L435.58,147.66L438.05,151.3L440.51,153.02L442.9,152.54L445.36,153.69L447.75,154.68L450.21,148.55L452.68,146.94L454.98,148.95L457.45,141.16L459.83,142.95L462.3,131.17L464.68,107.84L469.61,79.48L472,71.76\" style=\"vector-effect: non-scaling-stroke; fill: none; stroke: rgb(128, 0, 128); stroke-opacity: 1; stroke-width: 3px; opacity: 1;\"/></g><g class=\"points\"/><g class=\"text\"/></g></g></g><g class=\"overplot\"/><path class=\"xlines-above crisp\" d=\"M0,0\" style=\"fill: none;\"/><path class=\"ylines-above crisp\" d=\"M0,0\" style=\"fill: none;\"/><g class=\"overlines-above\"/><g class=\"xaxislayer-above\"><g class=\"xtick\"><text text-anchor=\"middle\" x=\"0\" y=\"383\" transform=\"translate(94.63,0)\" style=\"font-family: 'Open Sans', verdana, arial, sans-serif; font-size: 12px; fill: rgb(42, 63, 95); fill-opacity: 1; white-space: pre;\">2005</text></g><g class=\"xtick\"><text text-anchor=\"middle\" x=\"0\" y=\"383\" transform=\"translate(239.82,0)\" style=\"font-family: 'Open Sans', verdana, arial, sans-serif; font-size: 12px; fill: rgb(42, 63, 95); fill-opacity: 1; white-space: pre;\">2010</text></g><g class=\"xtick\"><text text-anchor=\"middle\" x=\"0\" y=\"383\" transform=\"translate(385.02,0)\" style=\"font-family: 'Open Sans', verdana, arial, sans-serif; font-size: 12px; fill: rgb(42, 63, 95); fill-opacity: 1; white-space: pre;\">2015</text></g><g class=\"xtick\"><text text-anchor=\"middle\" x=\"0\" y=\"383\" transform=\"translate(530.21,0)\" style=\"font-family: 'Open Sans', verdana, arial, sans-serif; font-size: 12px; fill: rgb(42, 63, 95); fill-opacity: 1; white-space: pre;\">2020</text></g></g><g class=\"yaxislayer-above\"><g class=\"ytick\"><text text-anchor=\"end\" x=\"79\" y=\"4.199999999999999\" transform=\"translate(0,296.39)\" style=\"font-family: 'Open Sans', verdana, arial, sans-serif; font-size: 12px; fill: rgb(42, 63, 95); fill-opacity: 1; white-space: pre;\">50</text></g><g class=\"ytick\"><text text-anchor=\"end\" x=\"79\" y=\"4.199999999999999\" transform=\"translate(0,211.93)\" style=\"font-family: 'Open Sans', verdana, arial, sans-serif; font-size: 12px; fill: rgb(42, 63, 95); fill-opacity: 1; white-space: pre;\">100</text></g><g class=\"ytick\"><text text-anchor=\"end\" x=\"79\" y=\"4.199999999999999\" transform=\"translate(0,127.48)\" style=\"font-family: 'Open Sans', verdana, arial, sans-serif; font-size: 12px; fill: rgb(42, 63, 95); fill-opacity: 1; white-space: pre;\">150</text></g></g><g class=\"overaxes-above\"/></g></g><g class=\"polarlayer\"/><g class=\"ternarylayer\"/><g class=\"geolayer\"/><g class=\"funnelarealayer\"/><g class=\"pielayer\"/><g class=\"treemaplayer\"/><g class=\"sunburstlayer\"/><g class=\"glimages\"/><defs id=\"topdefs-2ccdd3\"><g class=\"clips\"/><clipPath id=\"legend2ccdd3\"><rect width=\"127\" height=\"124\" x=\"0\" y=\"0\"/></clipPath></defs><g class=\"layer-above\"><g class=\"imagelayer\"/><g class=\"shapelayer\"/></g><g class=\"infolayer\"><g class=\"legend\" pointer-events=\"all\" transform=\"translate(561.44,100)\"><rect class=\"bg\" shape-rendering=\"crispEdges\" style=\"stroke: rgb(68, 68, 68); stroke-opacity: 1; fill: rgb(255, 255, 255); fill-opacity: 1; stroke-width: 0px;\" width=\"127\" height=\"124\" x=\"0\" y=\"0\"/><g class=\"scrollbox\" transform=\"\" clip-path=\"url('#legend2ccdd3')\"><g class=\"groups\"><g class=\"traces\" transform=\"translate(0,14.5)\" style=\"opacity: 1;\"><text class=\"legendtext\" text-anchor=\"start\" x=\"40\" y=\"4.680000000000001\" style=\"font-family: 'Open Sans', verdana, arial, sans-serif; font-size: 12px; fill: rgb(42, 63, 95); fill-opacity: 1; white-space: pre;\">Milho (60 kg)</text><g class=\"layers\" style=\"opacity: 1;\"><g class=\"legendfill\"/><g class=\"legendlines\"><path class=\"js-line\" d=\"M5,0h30\" style=\"fill: none; stroke: rgb(255, 0, 0); stroke-opacity: 1; stroke-width: 3px;\"/></g><g class=\"legendsymbols\"><g class=\"legendpoints\"/></g></g><rect class=\"legendtoggle\" x=\"0\" y=\"-9.5\" width=\"121.359375\" height=\"19\" style=\"fill: rgb(0, 0, 0); fill-opacity: 0;\"/></g><g class=\"traces\" transform=\"translate(0,33.5)\" style=\"opacity: 1;\"><text class=\"legendtext\" text-anchor=\"start\" x=\"40\" y=\"4.680000000000001\" style=\"font-family: 'Open Sans', verdana, arial, sans-serif; font-size: 12px; fill: rgb(42, 63, 95); fill-opacity: 1; white-space: pre;\">Soja (60 kg)</text><g class=\"layers\" style=\"opacity: 1;\"><g class=\"legendfill\"/><g class=\"legendlines\"><path class=\"js-line\" d=\"M5,0h30\" style=\"fill: none; stroke: rgb(65, 105, 225); stroke-opacity: 1; stroke-width: 3px;\"/></g><g class=\"legendsymbols\"><g class=\"legendpoints\"/></g></g><rect class=\"legendtoggle\" x=\"0\" y=\"-9.5\" width=\"121.359375\" height=\"19\" style=\"fill: rgb(0, 0, 0); fill-opacity: 0;\"/></g><g class=\"traces\" transform=\"translate(0,52.5)\" style=\"opacity: 1;\"><text class=\"legendtext\" text-anchor=\"start\" x=\"40\" y=\"4.680000000000001\" style=\"font-family: 'Open Sans', verdana, arial, sans-serif; font-size: 12px; fill: rgb(42, 63, 95); fill-opacity: 1; white-space: pre;\">Arroz (60 kg)</text><g class=\"layers\" style=\"opacity: 1;\"><g class=\"legendfill\"/><g class=\"legendlines\"><path class=\"js-line\" d=\"M5,0h30\" style=\"fill: none; stroke: rgb(0, 128, 0); stroke-opacity: 1; stroke-width: 3px;\"/></g><g class=\"legendsymbols\"><g class=\"legendpoints\"/></g></g><rect class=\"legendtoggle\" x=\"0\" y=\"-9.5\" width=\"121.359375\" height=\"19\" style=\"fill: rgb(0, 0, 0); fill-opacity: 0;\"/></g><g class=\"traces\" transform=\"translate(0,71.5)\" style=\"opacity: 1;\"><text class=\"legendtext\" text-anchor=\"start\" x=\"40\" y=\"4.680000000000001\" style=\"font-family: 'Open Sans', verdana, arial, sans-serif; font-size: 12px; fill: rgb(42, 63, 95); fill-opacity: 1; white-space: pre;\">Pecuária (6 kg)</text><g class=\"layers\" style=\"opacity: 1;\"><g class=\"legendfill\"/><g class=\"legendlines\"><path class=\"js-line\" d=\"M5,0h30\" style=\"fill: none; stroke: rgb(255, 255, 0); stroke-opacity: 1; stroke-width: 3px;\"/></g><g class=\"legendsymbols\"><g class=\"legendpoints\"/></g></g><rect class=\"legendtoggle\" x=\"0\" y=\"-9.5\" width=\"121.359375\" height=\"19\" style=\"fill: rgb(0, 0, 0); fill-opacity: 0;\"/></g><g class=\"traces\" transform=\"translate(0,90.5)\" style=\"opacity: 1;\"><text class=\"legendtext\" text-anchor=\"start\" x=\"40\" y=\"4.680000000000001\" style=\"font-family: 'Open Sans', verdana, arial, sans-serif; font-size: 12px; fill: rgb(42, 63, 95); fill-opacity: 1; white-space: pre;\">Trigo (60 kg)</text><g class=\"layers\" style=\"opacity: 1;\"><g class=\"legendfill\"/><g class=\"legendlines\"><path class=\"js-line\" d=\"M5,0h30\" style=\"fill: none; stroke: rgb(255, 140, 0); stroke-opacity: 1; stroke-width: 3px;\"/></g><g class=\"legendsymbols\"><g class=\"legendpoints\"/></g></g><rect class=\"legendtoggle\" x=\"0\" y=\"-9.5\" width=\"121.359375\" height=\"19\" style=\"fill: rgb(0, 0, 0); fill-opacity: 0;\"/></g><g class=\"traces\" transform=\"translate(0,109.5)\" style=\"opacity: 1;\"><text class=\"legendtext\" text-anchor=\"start\" x=\"40\" y=\"4.680000000000001\" style=\"font-family: 'Open Sans', verdana, arial, sans-serif; font-size: 12px; fill: rgb(42, 63, 95); fill-opacity: 1; white-space: pre;\">Leite (60 kg)</text><g class=\"layers\" style=\"opacity: 1;\"><g class=\"legendfill\"/><g class=\"legendlines\"><path class=\"js-line\" d=\"M5,0h30\" style=\"fill: none; stroke: rgb(128, 0, 128); stroke-opacity: 1; stroke-width: 3px;\"/></g><g class=\"legendsymbols\"><g class=\"legendpoints\"/></g></g><rect class=\"legendtoggle\" x=\"0\" y=\"-9.5\" width=\"121.359375\" height=\"19\" style=\"fill: rgb(0, 0, 0); fill-opacity: 0;\"/></g></g></g><rect class=\"scrollbar\" rx=\"20\" ry=\"3\" width=\"0\" height=\"0\" style=\"fill: rgb(128, 139, 164); fill-opacity: 1;\" x=\"0\" y=\"0\"/></g><g class=\"rangeselector\" transform=\"translate(80,76)\" style=\"cursor: pointer; pointer-events: all;\"><g class=\"button\" transform=\"\"><rect class=\"selector-rect\" shape-rendering=\"crispEdges\" rx=\"3\" ry=\"3\" x=\"0\" y=\"0\" width=\"34.328125\" height=\"19\" style=\"stroke: rgb(68, 68, 68); stroke-opacity: 1; fill: rgb(238, 238, 238); fill-opacity: 1; stroke-width: 0px;\"/><text class=\"selector-text\" text-anchor=\"middle\" x=\"17.1640625\" y=\"12.5\" style=\"font-family: 'Open Sans', verdana, arial, sans-serif; font-size: 12px; fill: rgb(0, 0, 0); fill-opacity: 1; white-space: pre;\">YTD</text></g><g class=\"button\" transform=\"translate(39.328125,0)\"><rect class=\"selector-rect\" shape-rendering=\"crispEdges\" rx=\"3\" ry=\"3\" x=\"0\" y=\"0\" width=\"30\" height=\"19\" style=\"stroke: rgb(68, 68, 68); stroke-opacity: 1; fill: rgb(238, 238, 238); fill-opacity: 1; stroke-width: 0px;\"/><text class=\"selector-text\" text-anchor=\"middle\" x=\"15\" y=\"12.5\" style=\"font-family: 'Open Sans', verdana, arial, sans-serif; font-size: 12px; fill: rgb(0, 0, 0); fill-opacity: 1; white-space: pre;\">1y</text></g><g class=\"button\" transform=\"translate(74.328125,0)\"><rect class=\"selector-rect\" shape-rendering=\"crispEdges\" rx=\"3\" ry=\"3\" x=\"0\" y=\"0\" width=\"30\" height=\"19\" style=\"stroke: rgb(68, 68, 68); stroke-opacity: 1; fill: rgb(238, 238, 238); fill-opacity: 1; stroke-width: 0px;\"/><text class=\"selector-text\" text-anchor=\"middle\" x=\"15\" y=\"12.5\" style=\"font-family: 'Open Sans', verdana, arial, sans-serif; font-size: 12px; fill: rgb(0, 0, 0); fill-opacity: 1; white-space: pre;\">4y</text></g><g class=\"button\" transform=\"translate(109.328125,0)\"><rect class=\"selector-rect\" shape-rendering=\"crispEdges\" rx=\"3\" ry=\"3\" x=\"0\" y=\"0\" width=\"30\" height=\"19\" style=\"stroke: rgb(68, 68, 68); stroke-opacity: 1; fill: rgb(238, 238, 238); fill-opacity: 1; stroke-width: 0px;\"/><text class=\"selector-text\" text-anchor=\"middle\" x=\"15\" y=\"12.5\" style=\"font-family: 'Open Sans', verdana, arial, sans-serif; font-size: 12px; fill: rgb(0, 0, 0); fill-opacity: 1; white-space: pre;\">8y</text></g><g class=\"button\" transform=\"translate(144.328125,0)\"><rect class=\"selector-rect\" shape-rendering=\"crispEdges\" rx=\"3\" ry=\"3\" x=\"0\" y=\"0\" width=\"30\" height=\"19\" style=\"stroke: rgb(68, 68, 68); stroke-opacity: 1; fill: rgb(238, 238, 238); fill-opacity: 1; stroke-width: 0px;\"/><text class=\"selector-text\" text-anchor=\"middle\" x=\"15\" y=\"12.5\" style=\"font-family: 'Open Sans', verdana, arial, sans-serif; font-size: 12px; fill: rgb(0, 0, 0); fill-opacity: 1; white-space: pre;\">12y</text></g><g class=\"button\" transform=\"translate(179.328125,0)\"><rect class=\"selector-rect\" shape-rendering=\"crispEdges\" rx=\"3\" ry=\"3\" x=\"0\" y=\"0\" width=\"30\" height=\"19\" style=\"stroke: rgb(68, 68, 68); stroke-opacity: 1; fill: rgb(212, 212, 212); fill-opacity: 1; stroke-width: 0px;\"/><text class=\"selector-text\" text-anchor=\"middle\" x=\"15\" y=\"12.5\" style=\"font-family: 'Open Sans', verdana, arial, sans-serif; font-size: 12px; fill: rgb(0, 0, 0); fill-opacity: 1; white-space: pre;\">all</text></g></g><g class=\"g-gtitle\"><text class=\"gtitle\" x=\"35\" y=\"50\" text-anchor=\"start\" dy=\"0em\" style=\"font-family: 'Open Sans', verdana, arial, sans-serif; font-size: 17px; fill: rgb(42, 63, 95); opacity: 1; font-weight: normal; white-space: pre;\">Cotação das Commodities (Deflacionado IPCA)</text></g><g class=\"g-xtitle\"><text class=\"xtitle\" x=\"316\" y=\"410.8\" text-anchor=\"middle\" style=\"font-family: 'Open Sans', verdana, arial, sans-serif; font-size: 14px; fill: rgb(42, 63, 95); opacity: 1; font-weight: normal; white-space: pre;\">Data</text></g><g class=\"g-ytitle\"><text class=\"ytitle\" transform=\"rotate(-90,34.16875,235)\" x=\"34.16875\" y=\"235\" text-anchor=\"middle\" style=\"font-family: 'Open Sans', verdana, arial, sans-serif; font-size: 14px; fill: rgb(42, 63, 95); opacity: 1; font-weight: normal; white-space: pre;\">Preço (R$)</text></g></g></svg>"
          },
          "metadata": {
            "tags": []
          }
        }
      ]
    }
  ]
}